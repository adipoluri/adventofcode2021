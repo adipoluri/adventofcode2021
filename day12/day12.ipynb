{
 "cells": [
  {
   "cell_type": "code",
   "execution_count": 18,
   "id": "7461d8f9",
   "metadata": {},
   "outputs": [
    {
     "name": "stdout",
     "output_type": "stream",
     "text": [
      "[['start', 'A'], ['start', 'b'], ['A', 'c'], ['A', 'b'], ['b', 'd'], ['A', 'end'], ['b', 'end']]\n"
     ]
    }
   ],
   "source": [
    "## Load Data ##\n",
    "data = [num.replace(\"\\n\",\"\").split('-') for num in open('testInput.txt').readlines()]\n",
    "print(data)"
   ]
  },
  {
   "cell_type": "code",
   "execution_count": 23,
   "id": "7ef0a284",
   "metadata": {},
   "outputs": [
    {
     "name": "stdout",
     "output_type": "stream",
     "text": [
      "False\n",
      "True\n",
      "False\n",
      "False\n",
      "False\n",
      "False\n"
     ]
    }
   ],
   "source": [
    "class Cave:\n",
    "    def __init__(self,name):\n",
    "        self.name = name\n",
    "        self.type = name.isupper()\n",
    "        self.connected = []\n",
    "    \n",
    "    def addConnected(self,Cave):\n",
    "        self.connected.append(Cave)\n",
    "        \n",
    "caves = {}\n",
    "for cave in data:\n",
    "    if cave[0] not in caves:\n",
    "        cave1 = Cave(cave[0])\n",
    "        caves[cave[0]]=cave1\n",
    "    else:\n",
    "        cave1 = caves[cave[0]]\n",
    "        \n",
    "    if cave[1] not in caves:\n",
    "        cave2 = Cave(cave[1])\n",
    "        caves[cave[1]]=cave2\n",
    "    else:\n",
    "        cave2 = caves[cave[1]]   \n",
    "\n",
    "    cave1.addConnected(cave2)\n",
    "    cave2.addConnected(cave1)\n",
    "\n",
    "    \n",
    "for cave in caves:\n",
    "    print(caves[cave].type)"
   ]
  }
 ],
 "metadata": {
  "kernelspec": {
   "display_name": "Python 3 (ipykernel)",
   "language": "python",
   "name": "python3"
  },
  "language_info": {
   "codemirror_mode": {
    "name": "ipython",
    "version": 3
   },
   "file_extension": ".py",
   "mimetype": "text/x-python",
   "name": "python",
   "nbconvert_exporter": "python",
   "pygments_lexer": "ipython3",
   "version": "3.8.8"
  }
 },
 "nbformat": 4,
 "nbformat_minor": 5
}
