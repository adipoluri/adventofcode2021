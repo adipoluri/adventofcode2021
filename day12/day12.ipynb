{
 "cells": [
  {
   "cell_type": "code",
   "execution_count": 197,
   "id": "7461d8f9",
   "metadata": {
    "scrolled": true
   },
   "outputs": [],
   "source": [
    "## Load Data ##\n",
    "data = [num.replace(\"\\n\",\"\").split('-') for num in open('input.txt').readlines()]\n",
    "caves = {}\n",
    "\n",
    "class Cave:\n",
    "    def __init__(self,name):\n",
    "        self.name = name\n",
    "        self.type = name.isupper()\n",
    "        self.exit = True if name == 'end' or 'start' else False\n",
    "        self.connected = []\n",
    "    \n",
    "    def addConnected(self,Cave):\n",
    "        self.connected.append(Cave)\n",
    "        \n",
    "for cave in data:\n",
    "    if cave[0] not in caves:\n",
    "        cave1 = Cave(cave[0])\n",
    "        caves[cave[0]]=cave1\n",
    "    else:\n",
    "        cave1 = caves[cave[0]]\n",
    "\n",
    "    if cave[1] not in caves:\n",
    "        cave2 = Cave(cave[1])\n",
    "        caves[cave[1]]=cave2\n",
    "    else:\n",
    "        cave2 = caves[cave[1]]   \n",
    "\n",
    "    cave1.addConnected(cave2)\n",
    "    cave2.addConnected(cave1)\n",
    "    \n",
    "    \n",
    "# for cave in caves:\n",
    "#     print(caves[cave].name)\n",
    "#     for con in caves[cave].connected:\n",
    "#         print(con.name)\n",
    "#     print(\" \")"
   ]
  },
  {
   "cell_type": "code",
   "execution_count": 180,
   "id": "7ef0a284",
   "metadata": {},
   "outputs": [
    {
     "data": {
      "text/plain": [
       "10"
      ]
     },
     "execution_count": 180,
     "metadata": {},
     "output_type": "execute_result"
    }
   ],
   "source": [
    "### Part 1 ###\n",
    "paths = []   \n",
    "\n",
    "def recurse(visited, curr):\n",
    "    if not curr.type and curr.name in visited:\n",
    "        return\n",
    "    if curr.name == \"end\":\n",
    "        path = visited.copy()\n",
    "        path.append(curr.name)\n",
    "        paths.append(path)\n",
    "        return\n",
    "    \n",
    "    for cave in curr.connected:\n",
    "        path = visited.copy()\n",
    "        path.append(curr.name)\n",
    "        recurse(path,cave)\n",
    "        \n",
    "def solution():\n",
    "    path = []\n",
    "    recurse(path, caves['start'])\n",
    "    return len(paths)\n",
    "\n",
    "solution()"
   ]
  },
  {
   "cell_type": "code",
   "execution_count": 196,
   "id": "a0e4a429",
   "metadata": {},
   "outputs": [
    {
     "data": {
      "text/plain": [
       "153592"
      ]
     },
     "execution_count": 196,
     "metadata": {},
     "output_type": "execute_result"
    }
   ],
   "source": [
    "### Part 2 ### \n",
    "paths = []   \n",
    "\n",
    "def recurse(visited, curr,d):\n",
    "    doubled = d\n",
    "    if not curr.type and curr.name in visited:\n",
    "        if doubled or curr.name == 'start':\n",
    "            return\n",
    "        else:\n",
    "            doubled = True\n",
    "    \n",
    "    if curr.name == \"end\":\n",
    "        path = visited.copy()\n",
    "        path.append(curr.name)\n",
    "        paths.append(path)\n",
    "        return\n",
    "    \n",
    "    for cave in curr.connected:\n",
    "        path = visited.copy()\n",
    "        path.append(curr.name)\n",
    "        recurse(path,cave,doubled)\n",
    "        \n",
    "def solution():\n",
    "    path = []\n",
    "    recurse(path, caves['start'],False)\n",
    "    return len(paths)\n",
    "\n",
    "solution()"
   ]
  }
 ],
 "metadata": {
  "kernelspec": {
   "display_name": "Python 3 (ipykernel)",
   "language": "python",
   "name": "python3"
  },
  "language_info": {
   "codemirror_mode": {
    "name": "ipython",
    "version": 3
   },
   "file_extension": ".py",
   "mimetype": "text/x-python",
   "name": "python",
   "nbconvert_exporter": "python",
   "pygments_lexer": "ipython3",
   "version": "3.9.7"
  }
 },
 "nbformat": 4,
 "nbformat_minor": 5
}
