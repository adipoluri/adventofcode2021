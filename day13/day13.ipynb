{
 "cells": [
  {
   "cell_type": "code",
   "execution_count": 151,
   "id": "378b998c",
   "metadata": {},
   "outputs": [],
   "source": [
    "## Load Data ##\n",
    "data,ins = open('input.txt').read().split(\"\\n\\n\")\n",
    "\n",
    "data = [[int(coords) for coords in num.split(',')] for num in data.rstrip().split(\"\\n\")]\n",
    "ins = [[fold[11:12], int(fold[13:len(fold)])] for fold in ins.rstrip().split(\"\\n\")]"
   ]
  },
  {
   "cell_type": "code",
   "execution_count": 150,
   "id": "5b994c22",
   "metadata": {},
   "outputs": [
    {
     "name": "stdout",
     "output_type": "stream",
     "text": [
      "693\n",
      "574\n",
      "476\n",
      "397\n",
      "332\n",
      "282\n",
      "242\n",
      "206\n",
      "176\n",
      "147\n",
      "121\n",
      "95\n"
     ]
    }
   ],
   "source": [
    "### Part 1 ###\n",
    "\n",
    "def solution():\n",
    "    coords = data\n",
    "    for fold in ins:\n",
    "        if fold[0] == 'y':\n",
    "            for i in range(len(coords)):\n",
    "                x,y = coords[i]\n",
    "                if y >= fold[1]:\n",
    "                    coords[i] = [x,fold[1]-(y-fold[1])]\n",
    "\n",
    "        if fold[0] == 'x':\n",
    "            for i in range(len(coords)):\n",
    "                x,y = coords[i]\n",
    "                if x >= fold[1]:\n",
    "                    coords[i] = [fold[1]-(x-fold[1]),y]\n",
    "                    \n",
    "        newCoords = []\n",
    "        for coord in coords:\n",
    "            if coord not in newCoords:\n",
    "                newCoords.append(coord)\n",
    "        coords = newCoords\n",
    "        print(len(newCoords))\n",
    "    \n",
    "solution()\n"
   ]
  },
  {
   "cell_type": "code",
   "execution_count": 149,
   "id": "cdf567ae",
   "metadata": {},
   "outputs": [
    {
     "name": "stdout",
     "output_type": "stream",
     "text": [
      "█  █  ██  █    ████ ███   ██  ████ █  █\n",
      "█  █ █  █ █       █ █  █ █  █    █ █  █\n",
      "█  █ █    █      █  █  █ █  █   █  █  █\n",
      "█  █ █    █     █   ███  ████  █   █  █\n",
      "█  █ █  █ █    █    █ █  █  █ █    █  █\n",
      " ██   ██  ████ ████ █  █ █  █ ████  ██ \n"
     ]
    }
   ],
   "source": [
    "### Part 2 ###\n",
    "\n",
    "def getMax(data):\n",
    "    maxX, maxY = 0,0\n",
    "    for coord in data:\n",
    "        if coord[0] > maxX:\n",
    "            maxX = coord[0]\n",
    "        if coord[1] > maxY:\n",
    "            maxY = coord[1]\n",
    "    return maxX,maxY\n",
    "\n",
    "def part1():\n",
    "    coords = data\n",
    "    for fold in ins:\n",
    "        if fold[0] == 'y':\n",
    "            for i in range(len(coords)):\n",
    "                x,y = coords[i]\n",
    "                if y >= fold[1]:\n",
    "                    coords[i] = [x,fold[1]-(y-fold[1])]\n",
    "\n",
    "        if fold[0] == 'x':\n",
    "            for i in range(len(coords)):\n",
    "                x,y = coords[i]\n",
    "                if x >= fold[1]:\n",
    "                    coords[i] = [fold[1]-(x-fold[1]),y]\n",
    "                    \n",
    "        newCoords = []\n",
    "        for coord in coords:\n",
    "            if coord not in newCoords:\n",
    "                newCoords.append(coord)\n",
    "        coords = newCoords\n",
    "    return coords\n",
    "\n",
    "\n",
    "def part2():\n",
    "    ans = part1()\n",
    "    maxX,maxY = getMax(ans)\n",
    "    grid = [[' ' for x in range(maxX+1)] for y in range(maxY+1)]\n",
    "    for cd in ans:\n",
    "        grid[cd[1]][cd[0]] = '█'\n",
    "    for line in grid:\n",
    "        print(''.join(line))\n",
    "        \n",
    "part2()\n",
    "\n"
   ]
  }
 ],
 "metadata": {
  "kernelspec": {
   "display_name": "Python 3 (ipykernel)",
   "language": "python",
   "name": "python3"
  },
  "language_info": {
   "codemirror_mode": {
    "name": "ipython",
    "version": 3
   },
   "file_extension": ".py",
   "mimetype": "text/x-python",
   "name": "python",
   "nbconvert_exporter": "python",
   "pygments_lexer": "ipython3",
   "version": "3.9.7"
  }
 },
 "nbformat": 4,
 "nbformat_minor": 5
}
