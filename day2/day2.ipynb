{
 "cells": [
  {
   "cell_type": "code",
   "execution_count": 37,
   "id": "a473dd8f",
   "metadata": {},
   "outputs": [],
   "source": [
    "## Load Data ##\n",
    "data = open('day2.txt').readlines()"
   ]
  },
  {
   "cell_type": "code",
   "execution_count": 87,
   "id": "043dd782",
   "metadata": {},
   "outputs": [
    {
     "name": "stdout",
     "output_type": "stream",
     "text": [
      "2033\n",
      "768\n",
      "1561344\n"
     ]
    }
   ],
   "source": [
    "### Part 1 ###\n",
    "\n",
    "def getDir(string):\n",
    "    return(string[0:len(string)-3])\n",
    "\n",
    "def getNum(string):\n",
    "    return(int(string[len(string)-3:len(string)-1]))\n",
    "\n",
    "depth = 0\n",
    "horiz = 0\n",
    "\n",
    "for dir in data:\n",
    "    direction = getDir(dir)\n",
    "\n",
    "    if(direction == 'forward'):\n",
    "        horiz += getNum(dir)\n",
    "    elif(direction == 'up'):\n",
    "        depth -= getNum(dir)\n",
    "    else:\n",
    "        depth += getNum(dir)\n",
    "    \n",
    "print(horiz)\n",
    "print(depth)\n",
    "print(horiz * depth)\n"
   ]
  },
  {
   "cell_type": "code",
   "execution_count": 88,
   "id": "dc2d59b5",
   "metadata": {},
   "outputs": [
    {
     "name": "stdout",
     "output_type": "stream",
     "text": [
      "2033\n",
      "909225\n",
      "1848454425\n"
     ]
    }
   ],
   "source": [
    "### Part 2 ###\n",
    "\n",
    "\n",
    "aim = 0\n",
    "depth = 0\n",
    "horiz = 0\n",
    "\n",
    "for dir in data:\n",
    "    direction = getDir(dir)\n",
    "\n",
    "    if(direction == 'forward'):\n",
    "        horiz += getNum(dir)\n",
    "        depth += aim*getNum(dir)\n",
    "    elif(direction == 'up'):\n",
    "        aim -= getNum(dir)\n",
    "    else:\n",
    "        aim += getNum(dir)\n",
    "    \n",
    "print(horiz)\n",
    "print(depth)\n",
    "print(horiz * depth)\n"
   ]
  }
 ],
 "metadata": {
  "kernelspec": {
   "display_name": "Python 3 (ipykernel)",
   "language": "python",
   "name": "python3"
  },
  "language_info": {
   "codemirror_mode": {
    "name": "ipython",
    "version": 3
   },
   "file_extension": ".py",
   "mimetype": "text/x-python",
   "name": "python",
   "nbconvert_exporter": "python",
   "pygments_lexer": "ipython3",
   "version": "3.8.8"
  }
 },
 "nbformat": 4,
 "nbformat_minor": 5
}
