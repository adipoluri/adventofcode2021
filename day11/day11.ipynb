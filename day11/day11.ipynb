{
 "cells": [
  {
   "cell_type": "code",
   "execution_count": 56,
   "id": "352b80c2",
   "metadata": {},
   "outputs": [],
   "source": [
    "## Load Data ##\n",
    "data = [[int(digit) for digit in list(num.replace(\"\\n\",\"\"))] for num in open('day11.txt').readlines()]"
   ]
  },
  {
   "cell_type": "code",
   "execution_count": 95,
   "id": "a1c77898",
   "metadata": {},
   "outputs": [
    {
     "data": {
      "text/plain": [
       "1743"
      ]
     },
     "execution_count": 95,
     "metadata": {},
     "output_type": "execute_result"
    }
   ],
   "source": [
    "### Part 1 ###\n",
    "data = [[int(digit) for digit in list(num.replace(\"\\n\",\"\"))] for num in open('day11.txt').readlines()]\n",
    "\n",
    "xBound = len(data)\n",
    "yBound = len(data[0])\n",
    "\n",
    "def flash(X,Y,flashed):\n",
    "    for y in range(-1,2,1):\n",
    "        for x in range(-1,2,1):\n",
    "            if (x+X>=xBound) or (x+X<0) or (y+Y>=yBound) or (y+Y<0) or (x,y)==(0,0) or (flashed[y+Y][x+X] == 1):\n",
    "                continue\n",
    "            data[y+Y][x+X] += 1\n",
    "    \n",
    "def updateFlashes():\n",
    "    flashed = [[0 for x in range(xBound)] for y in range(yBound)]\n",
    "    checkFlashes = True\n",
    "    \n",
    "    while(checkFlashes):\n",
    "        checkFlashes = False    \n",
    "        for y in range(len(data)):\n",
    "            for x in range(len(data[0])):\n",
    "                if(data[y][x] > 9) and (flashed[y][x] != 1):\n",
    "                    flashed[y][x] = 1\n",
    "                    flash(x,y,flashed)\n",
    "                    checkFlashes = True\n",
    "                    break\n",
    "            else:\n",
    "                continue\n",
    "            break\n",
    "            \n",
    "    flashCounter = 0\n",
    "    for y in range(len(data)):\n",
    "        for x in range(len(data[0])):\n",
    "            if(data[y][x] > 9):\n",
    "                data[y][x] = 0\n",
    "                flashCounter += 1\n",
    "\n",
    "    return flashCounter\n",
    "        \n",
    "        \n",
    "\n",
    "def updateVals():\n",
    "    for y in range(len(data)):\n",
    "        for x in range(len(data[0])):\n",
    "            data[y][x] += 1\n",
    "            \n",
    "\n",
    "def totalFlashes(steps):\n",
    "    flashCount = 0\n",
    "    for step in range(steps):\n",
    "        updateVals()\n",
    "        flashCount += updateFlashes()\n",
    "    return flashCount\n",
    "        \n",
    "totalFlashes(100)"
   ]
  },
  {
   "cell_type": "code",
   "execution_count": 96,
   "id": "3223e724",
   "metadata": {},
   "outputs": [
    {
     "data": {
      "text/plain": [
       "364"
      ]
     },
     "execution_count": 96,
     "metadata": {},
     "output_type": "execute_result"
    }
   ],
   "source": [
    "### Part 2 ###\n",
    "data = [[int(digit) for digit in list(num.replace(\"\\n\",\"\"))] for num in open('day11.txt').readlines()]\n",
    "\n",
    "xBound = len(data)\n",
    "yBound = len(data[0])\n",
    "\n",
    "def flash(X,Y,flashed):\n",
    "    for y in range(-1,2,1):\n",
    "        for x in range(-1,2,1):\n",
    "            if (x+X>=xBound) or (x+X<0) or (y+Y>=yBound) or (y+Y<0) or (x,y)==(0,0) or (flashed[y+Y][x+X] == 1):\n",
    "                continue\n",
    "            data[y+Y][x+X] += 1\n",
    "    \n",
    "def updateFlashes():\n",
    "    flashed = [[0 for x in range(xBound)] for y in range(yBound)]\n",
    "    checkFlashes = True\n",
    "    \n",
    "    while(checkFlashes):\n",
    "        checkFlashes = False    \n",
    "        for y in range(len(data)):\n",
    "            for x in range(len(data[0])):\n",
    "                if(data[y][x] > 9) and (flashed[y][x] != 1):\n",
    "                    flashed[y][x] = 1\n",
    "                    flash(x,y,flashed)\n",
    "                    checkFlashes = True\n",
    "                    break\n",
    "            else:\n",
    "                continue\n",
    "            break\n",
    "            \n",
    "    flashCounter = 0\n",
    "    for y in range(len(data)):\n",
    "        for x in range(len(data[0])):\n",
    "            if(data[y][x] > 9):\n",
    "                data[y][x] = 0\n",
    "                flashCounter += 1\n",
    "\n",
    "    return flashCounter\n",
    "        \n",
    "        \n",
    "\n",
    "def updateVals():\n",
    "    for y in range(len(data)):\n",
    "        for x in range(len(data[0])):\n",
    "            data[y][x] += 1\n",
    "            \n",
    "\n",
    "def getSimultaneousFlashStep():\n",
    "    flashCount = 0\n",
    "    counter = 0\n",
    "    while(flashCount != xBound*yBound):\n",
    "        updateVals()\n",
    "        flashCount = updateFlashes()\n",
    "        counter += 1\n",
    "    return counter\n",
    "        \n",
    "getSimultaneousFlashStep()"
   ]
  }
 ],
 "metadata": {
  "kernelspec": {
   "display_name": "Python 3 (ipykernel)",
   "language": "python",
   "name": "python3"
  },
  "language_info": {
   "codemirror_mode": {
    "name": "ipython",
    "version": 3
   },
   "file_extension": ".py",
   "mimetype": "text/x-python",
   "name": "python",
   "nbconvert_exporter": "python",
   "pygments_lexer": "ipython3",
   "version": "3.8.8"
  }
 },
 "nbformat": 4,
 "nbformat_minor": 5
}
