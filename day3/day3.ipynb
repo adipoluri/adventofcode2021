{
 "cells": [
  {
   "cell_type": "code",
   "execution_count": 2,
   "id": "3938f72c",
   "metadata": {},
   "outputs": [],
   "source": [
    "## Load Data ##\n",
    "data = open('day3.txt').readlines()"
   ]
  },
  {
   "cell_type": "code",
   "execution_count": 3,
   "id": "19c7c02f",
   "metadata": {},
   "outputs": [
    {
     "name": "stdout",
     "output_type": "stream",
     "text": [
      "1616\n",
      "2479\n",
      "4006064\n"
     ]
    }
   ],
   "source": [
    "### Part 1 ###\n",
    "\n",
    "gamma = []\n",
    "epsilon = []\n",
    "\n",
    "\n",
    "for i in range(0,len(data[0])-1):\n",
    "    count1 = 0\n",
    "    count0 = 0\n",
    "    for line in data:\n",
    "        if(line[i] == '1'):\n",
    "            count1 += 1\n",
    "        else:\n",
    "            count0 += 1\n",
    "        \n",
    "    if count1 >= count0:\n",
    "        gamma.append('1')\n",
    "        epsilon.append('0')\n",
    "    else:\n",
    "        gamma.append('0')\n",
    "        epsilon.append('1')\n",
    "        \n",
    "gammaInt = int(\"\".join(gamma),2)\n",
    "epsilonInt = int(\"\".join(epsilon),2)\n",
    "\n",
    "print(gammaInt)\n",
    "print(epsilonInt)\n",
    "\n",
    "print(gammaInt * epsilonInt)\n",
    "    "
   ]
  },
  {
   "cell_type": "code",
   "execution_count": 33,
   "id": "777db245",
   "metadata": {},
   "outputs": [
    {
     "name": "stdout",
     "output_type": "stream",
     "text": [
      "1599\n",
      "3716\n",
      "5941884\n"
     ]
    }
   ],
   "source": [
    "### Part 2 ###\n",
    "\n",
    "def oxygenRating(arr):\n",
    "    buf = arr\n",
    "    for i in range(0,len(data[0])-1):\n",
    "        count1 = 0\n",
    "        count0 = 0\n",
    "        nextBuf = []\n",
    "        for line in buf:\n",
    "            if(line[i] == '1'):\n",
    "                count1 += 1\n",
    "                nextBuf.insert(0,line)\n",
    "            else:\n",
    "                count0 += 1\n",
    "                nextBuf.append(line)\n",
    "\n",
    "        if count1 >= count0:\n",
    "            buf = nextBuf[0:count1]\n",
    "        else:\n",
    "            buf = nextBuf[count1:len(nextBuf)]\n",
    "            \n",
    "        if len(buf) == 1:\n",
    "            return(int(\"\".join(buf),2))\n",
    "        \n",
    "    print(buf)\n",
    "    return(int(\"\".join(buf),2))\n",
    "\n",
    "\n",
    "def co2Rating(arr):\n",
    "    buf = arr\n",
    "    for i in range(0,len(data[0])-1):\n",
    "        count1 = 0\n",
    "        count0 = 0\n",
    "        nextBuf = []\n",
    "        for line in buf:\n",
    "            if(line[i] == '1'):\n",
    "                count1 += 1\n",
    "                nextBuf.insert(0,line)\n",
    "            else:\n",
    "                count0 += 1\n",
    "                nextBuf.append(line)\n",
    "\n",
    "        if count1 < count0:\n",
    "            buf = nextBuf[0:count1]\n",
    "        else:\n",
    "            buf = nextBuf[count1:len(nextBuf)]\n",
    "        if len(buf) == 1:\n",
    "            return(int(\"\".join(buf),2))\n",
    "        \n",
    "    print(buf)\n",
    "    return(int(\"\".join(buf),2))\n",
    "\n",
    "\n",
    "\n",
    "print(oxygenRating(data))\n",
    "print(co2Rating(data))\n",
    "\n",
    "print(oxygenRating(data) * co2Rating(data))"
   ]
  },
  {
   "cell_type": "code",
   "execution_count": null,
   "id": "d29f2550",
   "metadata": {},
   "outputs": [],
   "source": [
    "### Visualisation ###"
   ]
  }
 ],
 "metadata": {
  "kernelspec": {
   "display_name": "Python 3 (ipykernel)",
   "language": "python",
   "name": "python3"
  },
  "language_info": {
   "codemirror_mode": {
    "name": "ipython",
    "version": 3
   },
   "file_extension": ".py",
   "mimetype": "text/x-python",
   "name": "python",
   "nbconvert_exporter": "python",
   "pygments_lexer": "ipython3",
   "version": "3.8.8"
  }
 },
 "nbformat": 4,
 "nbformat_minor": 5
}
