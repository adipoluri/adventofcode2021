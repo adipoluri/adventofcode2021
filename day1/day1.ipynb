{
 "cells": [
  {
   "cell_type": "markdown",
   "id": "a59f8f55",
   "metadata": {},
   "source": [
    "Solution for Day 1"
   ]
  },
  {
   "cell_type": "code",
   "execution_count": 2,
   "id": "ede42881",
   "metadata": {},
   "outputs": [
    {
     "name": "stdout",
     "output_type": "stream",
     "text": [
      "1655\n"
     ]
    }
   ],
   "source": [
    "### Part 1 ###\n",
    "\n",
    "data = open('day1.txt').readlines()\n",
    "\n",
    "incSum = 0\n",
    "\n",
    "for i in range(1,len(data)):\n",
    "    if(int(data[i]) > int(data[i-1])):\n",
    "        incSum += 1\n",
    "        \n",
    "print(incSum)"
   ]
  },
  {
   "cell_type": "code",
   "execution_count": 7,
   "id": "c46261ad",
   "metadata": {},
   "outputs": [
    {
     "name": "stdout",
     "output_type": "stream",
     "text": [
      "1683\n"
     ]
    }
   ],
   "source": [
    "### Part 2 ###\n",
    "\n",
    "def getWindowAvg(i):\n",
    "    return(int(data[i]) + int(data[i+1]) + int(data[i+2]))\n",
    "\n",
    "incSum = 0\n",
    "\n",
    "for i in range(1,len(data)-2):\n",
    "    if(getWindowAvg(i-1) < getWindowAvg(i)):\n",
    "        incSum += 1\n",
    "        \n",
    "print(incSum)"
   ]
  }
 ],
 "metadata": {
  "kernelspec": {
   "display_name": "Python 3 (ipykernel)",
   "language": "python",
   "name": "python3"
  },
  "language_info": {
   "codemirror_mode": {
    "name": "ipython",
    "version": 3
   },
   "file_extension": ".py",
   "mimetype": "text/x-python",
   "name": "python",
   "nbconvert_exporter": "python",
   "pygments_lexer": "ipython3",
   "version": "3.8.8"
  }
 },
 "nbformat": 4,
 "nbformat_minor": 5
}
